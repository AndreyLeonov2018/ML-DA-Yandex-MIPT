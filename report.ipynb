{
 "cells": [
  {
   "cell_type": "markdown",
   "metadata": {},
   "source": [
    "# Отчет Леонова Андрея\n"
   ]
  },
  {
   "cell_type": "markdown",
   "metadata": {},
   "source": [
    "Задача: обучить алгоритм, который по тренировочной выборке будет рекомендовать для каждого пользователя фильмы, которые он вероятнее всего купит в течение тестового периода. Важно так же предугадать порядок в котором пользователь потребит контент. \n",
    "\n",
    "Даны два типа feedback от пользователя: explicit - рейтинг, который дал пользователь фильму и implicit -  транзакции.\n",
    "\n",
    "При том оценки рейтингов даны только для 13251 тестовых пользователей,  а транзакции для 49992, то есть почти для всех.\n",
    "\n",
    "Таким образом, основная модель будет обучаться на транзакциях пользователей, implicit feedback."
   ]
  },
  {
   "cell_type": "markdown",
   "metadata": {},
   "source": [
    "---"
   ]
  },
  {
   "cell_type": "markdown",
   "metadata": {},
   "source": [
    "Финальным методом был выбран AlternatingLeastSquares, настроенный на транзакциях пользователя, так как он дал наилучшие результаты для implicit feedback.\n",
    "Были выбраны параметры factors=10,  iterations = 200."
   ]
  },
  {
   "cell_type": "markdown",
   "metadata": {},
   "source": [
    "---"
   ]
  },
  {
   "cell_type": "markdown",
   "metadata": {},
   "source": [
    "1. Было построено  2 алгоритм на основе KNN с использованием данных из ratings: user based и item  based, который сравнивают похожесть пользователей и фильмов. Результаты оказались очень низкими 6.95293e-310 и 0.00227966 соответсвенно.\n",
    "Было построено предсказания используя SVD из surpise, но метод дал низкий результат 0.00000870175, из-за того что я неправильно его использовал.\n",
    "Код в файле step1 на google drive https://drive.google.com/drive/folders/1P5i_VXsaE5y1AboHeGfGoZIzSwZdDRcg?usp=sharing, так как он больше 25 mb и не загрузился на github."
   ]
  },
  {
   "cell_type": "markdown",
   "metadata": {},
   "source": [
    "\n",
    "2. Обучены алгоритмы AlternatingLeastSquares, BayesianPersonalizedRanking, BM25Recommender на матрице транзакций:\n",
    "\n",
    "Результаты:\n",
    "- implicit.als.AlternatingLeastSquares(factors=50) - 0.0217416\n",
    "- implicit.bpr.BayesianPersonalizedRanking(factors=50) - 0.0141921\n",
    "- implicit.als.AlternatingLeastSquares(factors=50, regulator = 0.03) - 0.0192853\n",
    "- BM25Recommender() -  0.0188958\n",
    "\n",
    "Код в файле step2."
   ]
  },
  {
   "cell_type": "markdown",
   "metadata": {},
   "source": [
    "3. В данной части были применены алгоритмы SVD и КNN для транзакций. Данная часть не дала никаких результатов, отняла много времени, так как все время падало ядро. На практике показала что для implicit feedback нужно применять только AlternatingLeastSquares и BayesianPersonalizedRanking. Код в файле  step3.\n",
    "\n",
    "\n"
   ]
  },
  {
   "cell_type": "markdown",
   "metadata": {},
   "source": [
    "4. Обучены  implicit алгоритмы с разными параметрами:\n",
    "\n",
    "\n",
    "- implicit.als.AlternatingLeastSquares(factors=200) - 0.014269\n",
    "- implicit.als.AlternatingLeastSquares(factors=100) - 0.0189677\n",
    "- implicit.als.AlternatingLeastSquares(factors=25) -  0.0232438\n",
    "- implicit.als.AlternatingLeastSquares(factors=10) - 0.0237127\n",
    "- implicit.als.AlternatingLeastSquares(factors=3) - 0.0189677\n",
    "- implicit.als.AlternatingLeastSquares(factors=10,  regularization=0.1) - 0.0238537\n",
    "- implicit.approximate_als.AnnoyAlternatingLeastSquares(approximate_similar_items=True, approximate_recommend=True,n_trees = 1000, search_k = 100 ) - 0.0191297\n",
    "- implicit.als.AlternatingLeastSquares(factors=10,  iterations = 40) -  0.0239537\n",
    "- implicit.als.AlternatingLeastSquares(factors=100,  iterations = 40, regularization = 500) -  0.0149764\n",
    "- implicit.als.AlternatingLeastSquares(factors=10,  iterations = 40, regularization = 500) - Результат: 0.0149764\n",
    "- implicit.als.AlternatingLeastSquares(factors=10,  iterations = 200) -  0.0241611\n"
   ]
  },
  {
   "cell_type": "markdown",
   "metadata": {},
   "source": [
    "---"
   ]
  },
  {
   "cell_type": "markdown",
   "metadata": {},
   "source": [
    "Если бы было больше времени:\n",
    "    \n",
    "1. Проверил бы различные комбинации factor, regularizator, combination для ALS.\n",
    "2. Проверил бы различные комбинации factor, regularization для BayesianPersonalizedRanking.\n",
    "3. Попробовал бы добавить Bookmarks в filter_items."
   ]
  },
  {
   "cell_type": "markdown",
   "metadata": {},
   "source": [
    "---"
   ]
  },
  {
   "cell_type": "markdown",
   "metadata": {},
   "source": [
    "Результаты для различных моделей описаны выше и в приведены в файлах.\n",
    "\n",
    "**Место 110, Sky. \n",
    "Результат - 0.0241611.**"
   ]
  },
  {
   "cell_type": "code",
   "execution_count": null,
   "metadata": {},
   "outputs": [],
   "source": []
  }
 ],
 "metadata": {
  "kernelspec": {
   "display_name": "Python 2",
   "language": "python",
   "name": "python2"
  },
  "language_info": {
   "codemirror_mode": {
    "name": "ipython",
    "version": 2
   },
   "file_extension": ".py",
   "mimetype": "text/x-python",
   "name": "python",
   "nbconvert_exporter": "python",
   "pygments_lexer": "ipython2",
   "version": "2.7.15"
  }
 },
 "nbformat": 4,
 "nbformat_minor": 2
}
